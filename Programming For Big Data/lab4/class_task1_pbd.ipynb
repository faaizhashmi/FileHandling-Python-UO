{
 "cells": [
  {
   "cell_type": "markdown",
   "metadata": {},
   "source": [
    "# Class Tasks"
   ]
  },
  {
   "cell_type": "markdown",
   "metadata": {},
   "source": [
    "<font color='red' size =\"5\"> Write a Python program that takes a positive integer and returns the sum of the cube of all the positive integers smaller than the specified number.</font> "
   ]
  },
  {
   "cell_type": "code",
   "execution_count": null,
   "metadata": {},
   "outputs": [],
   "source": [
    "num=int(input(\"Enter Number : \"))\n",
    "cubeSum=0;\n",
    "for i in range (num):\n",
    "    print(i,\"cube = \",i*i*i)\n",
    "    cubeSum= cubeSum+(i*i*i)\n",
    "\n",
    "print(cubeSum)"
   ]
  },
  {
   "cell_type": "markdown",
   "metadata": {},
   "source": [
    "<font color='red' size =\"5\">Write a Python program to check whether a number is divisible by another number. Accept two integers values form the user. </font> "
   ]
  },
  {
   "cell_type": "code",
   "execution_count": 3,
   "metadata": {},
   "outputs": [
    {
     "name": "stdout",
     "output_type": "stream",
     "text": [
      "Enter number 1 :10\n",
      "Enter number 2 :2\n",
      "yes\n"
     ]
    }
   ],
   "source": [
    "num1=int(input(\"Enter number 1 :\"))\n",
    "num2=int(input(\"Enter number 2 :\"))\n",
    "\n",
    "if num1%num2==0:\n",
    "    print(\"yes\")\n",
    "else:\n",
    "    print(\"No\")"
   ]
  },
  {
   "cell_type": "markdown",
   "metadata": {},
   "source": [
    "<font color='red' size =\"5\"> Write a C++ program which asks the user several Y/N questions and selects a car for them based on their answers. We (Rent-a-Car) have7 Porsche,5 Yukon,10 Civic,12 Villager,9 Explorer, and5 Sentra cars.The questions are:\n",
    "    1.  do you have children;\n",
    "    2.  do you have lots of money;\n",
    "    3.  do you like trucks.\n",
    "    The car selection should be based on the following:\n",
    "    1.Porsche:have no children, have lots of money, don’t like trucks.\n",
    "    2.Yukon:have no children, have lots of money, like trucks.\n",
    "    3.Civic:have no children, have little money.\n",
    "    4.Villager: have children, have lots of money, don’t like trucks.\n",
    "    5.Explorer:have children, have lots of money, like trucks\n",
    "    6.Sentra:have children,have little money.\n",
    "    The program should continue for the above scenario until Rent-a-Cars has sufficient supply \n",
    "</font> "
   ]
  },
  {
   "cell_type": "code",
   "execution_count": null,
   "metadata": {},
   "outputs": [],
   "source": [
    "totalCars=48\n",
    "porsche=7\n",
    "yukon=5\n",
    "civic=10\n",
    "villager=12\n",
    "explorer=9\n",
    "sentra=5\n",
    "\n",
    "while totalCars>0:\n",
    "    child=input(\"Do you have any children(y/n) : \")\n",
    "    money=input(\"Do you have lots of money(y/n) : \")\n",
    "    trucks=input(\"Do you have like trucks(y/n) : \")\n",
    "\n",
    "    if child=='n' and money=='y' and trucks=='n' and porsche>0:\n",
    "        print(\"Porsche\")\n",
    "        porsche -=1\n",
    "        totalCars -=1\n",
    "    \n",
    "    elif child=='n' and money=='y' and trucks=='y' and yukon>0:\n",
    "        print(\"Yukon\")\n",
    "        yukon -=1\n",
    "        totalCars -=1\n",
    "\n",
    "    elif child=='n' and money=='n' and trucks=='n' and civic>0 :\n",
    "        print(\"civic\")\n",
    "        civic -=1\n",
    "        totalCars -=1\n",
    "    \n",
    "    elif child=='y' and money=='y' and trucks=='n' and villager>0:\n",
    "        print(\"villager\")\n",
    "        villager -=1\n",
    "        totalCars -=1\n",
    "    \n",
    "    elif child=='y' and money=='y' and trucks=='y' and explorer>0:\n",
    "        print(\"Explorer\")\n",
    "        explorer -=1\n",
    "        totalCars -=1\n",
    "    \n",
    "    elif child=='y' and money=='n' and trucks=='n' and sentra>0:\n",
    "        print(\"sentra\")\n",
    "        sentra -=1\n",
    "        totalCars -=1\n",
    "    \n",
    "    else:\n",
    "        print(\"no car for you\")\n",
    "        \n",
    "    print(\"total = \",totalCars)\n",
    "    print(\"porsche = \",porsche)\n",
    "    print(\"yukon = \",yukon)\n",
    "    print(\"civic = \",civic)\n",
    "    print(\"villager = \",villager)\n",
    "    print(\"explorer = \",explorer)\n",
    "    print(\"sentra = \",sentra)"
   ]
  },
  {
   "cell_type": "markdown",
   "metadata": {},
   "source": [
    "<font color='red' size =\"5\">  Write a program that asks the user to enter today’s sales rounded to the nearest \\\\$100 for each of three stores. The program should then display a bar graphcomparing each store’s sales. Create each bar in the graph by displaying a row of asterisks. Each asterisk should represent \\\\$100 of sales.\n",
    "\n",
    "Here is an example of the program’s output. User input is shown in bold.\n",
    "1.  Enter today’s sales for store 1:990[Enter]\n",
    "2.  Enter today’s sales for store 2:1150[Enter]\n",
    "3.  Enter today’s sales for store 3:910[Enter]\n",
    "DAILY SALES (each *=$100)\n",
    "Store 2: ************\n",
    "Store 1: **********\n",
    "Store 3: *********\n",
    "\n",
    "</font>\n",
    "\n",
    "Input Validation: Do not accept sales figures less than $0.00"
   ]
  },
  {
   "cell_type": "code",
   "execution_count": 4,
   "metadata": {},
   "outputs": [
    {
     "name": "stdout",
     "output_type": "stream",
     "text": [
      "Enter sales for store 1 : 990\n",
      "Enter sales for store 2 : 1150\n",
      "Enter sales for store 3 : 910\n",
      "store2\n",
      "***********\n",
      "\n",
      "store1\n",
      "*********\n",
      "\n",
      "store3\n",
      "*********\n",
      "\n"
     ]
    }
   ],
   "source": [
    "a=int(input(\"Enter sales for store 1 : \"))\n",
    "b=int(input(\"Enter sales for store 2 : \"))\n",
    "c=int(input(\"Enter sales for store 3 : \"))\n",
    "dic={}\n",
    "\n",
    "\n",
    "\n",
    "if a>0 and b>0 and c>0:\n",
    "    \n",
    "    dic['store1']=a\n",
    "    dic['store2']=b\n",
    "    dic['store3']=c\n",
    "    \n",
    "    for i in range(len(dic)):\n",
    "        def printstars(name,sale):\n",
    "            print(name)\n",
    "            while sale>=100:\n",
    "                print(\"*\",end=\"\")\n",
    "                sale=sale-100\n",
    "            print('\\n')\n",
    "            \n",
    "        val=max(dic,key=dic.get)\n",
    "        sal=dic[val]\n",
    "        printstars(val,sal)\n",
    "        dic.pop(val)\n",
    "\n",
    "else:\n",
    "    print(\"0 input\")\n",
    "    "
   ]
  },
  {
   "cell_type": "markdown",
   "metadata": {},
   "source": []
  },
  {
   "cell_type": "code",
   "execution_count": 2,
   "metadata": {},
   "outputs": [
    {
     "name": "stdout",
     "output_type": "stream",
     "text": [
      "store2\n",
      "{'store1': 500, 'store2': 550, 'store3': 400, 'store4': 550}\n",
      "{'store1': 500, 'store3': 400, 'store4': 550}\n",
      "store4\n"
     ]
    }
   ],
   "source": [
    "dic={}\n",
    "\n",
    "a1=500\n",
    "b2=550\n",
    "c3=400\n",
    "d4=550\n",
    "\n",
    "dic['store1']=a1\n",
    "dic['store2']=b2\n",
    "dic['store3']=c3\n",
    "dic['store4']=d4\n",
    "\n",
    "val=max(dic,key=dic.get)\n",
    "print(val)\n",
    "print(dic)\n",
    "dic.pop(val)\n",
    "print(dic)\n",
    "\n",
    "val=max(dic,key=dic.get)\n",
    "print(val)"
   ]
  },
  {
   "cell_type": "code",
   "execution_count": null,
   "metadata": {},
   "outputs": [],
   "source": []
  }
 ],
 "metadata": {
  "kernelspec": {
   "display_name": "Python 3",
   "language": "python",
   "name": "python3"
  },
  "language_info": {
   "codemirror_mode": {
    "name": "ipython",
    "version": 3
   },
   "file_extension": ".py",
   "mimetype": "text/x-python",
   "name": "python",
   "nbconvert_exporter": "python",
   "pygments_lexer": "ipython3",
   "version": "3.7.1"
  }
 },
 "nbformat": 4,
 "nbformat_minor": 2
}
