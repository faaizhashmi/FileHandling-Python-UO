{
 "cells": [
  {
   "cell_type": "code",
   "execution_count": 31,
   "metadata": {},
   "outputs": [
    {
     "name": "stdout",
     "output_type": "stream",
     "text": [
      "1   48.14637244   17.4178671   1\n",
      "2   43.6319871   25.81785236   1\n",
      "3   6.934521372000001   23.85573163   1\n",
      "4   27.33836151   40.58221376   0\n",
      "5   20.39305836   44.81548343   0\n",
      "6   18.69254509   3.2391619510000003   1\n",
      "7   15.51348496   45.79706095   0\n",
      "8   21.91374752   19.07159524   1\n",
      "9   49.983112799999994   31.13422557   0\n",
      "10   1.845034883   45.39394299   0\n",
      "11   9.734965131000001   45.89278133   0\n",
      "12   11.07850515   6.026680426   1\n",
      "13   37.79282082   31.28758926   0\n",
      "14   29.76543752   20.20522771   1\n",
      "15   35.73305842   30.64363736   0\n",
      "16   32.69970185   2.955709005   1\n",
      "17   37.28702276   34.04169345   0\n",
      "18   5.227639068   36.41523999   0\n",
      "19   17.79172892   12.01855338   1\n",
      "20   28.03267972   14.68564131   1\n"
     ]
    }
   ],
   "source": [
    "import pandas as pd\n",
    "import math\n",
    "\n",
    "data = pd.read_csv('points.csv')\n",
    "data=data.values.tolist()\n",
    "c1=data[4]\n",
    "c2=data[18]\n",
    "cls=[]\n",
    "\n",
    "\n",
    "for i in range(len(data)):\n",
    "    dis1=math.sqrt(((data[i][0]-c1[0])**2)+((data[i][1]-c1[1])**2))\n",
    "    dis2=math.sqrt(((data[i][0]-c2[0])**2)+((data[i][1]-c2[1])**2))\n",
    "    \n",
    "    \n",
    "    if dis1<dis2:\n",
    "        cls.append(0)\n",
    "    else:\n",
    "        cls.append(1)\n",
    "        \n",
    "for i in range(len(data)):\n",
    "    print(i+1,\" \", data[i][0],\" \",data[i][1],\" \",cls[i])\n",
    "\n"
   ]
  },
  {
   "cell_type": "code",
   "execution_count": 1,
   "metadata": {},
   "outputs": [
    {
     "name": "stdout",
     "output_type": "stream",
     "text": [
      "[[29, 49, 91, 7, 5], [72, 81, 7, 51, 62], [95, 82, 83, 73, 74], [80, 5, 41, 96, 50], [91, 77, 62, 67, 78]]\n",
      "[[44, 8, 74], [1, 99, 15], [69, 58, 88]]\n",
      "[[35213, 21837, 26889], [23210, 27959, 26521], [28369, 29983, 35035]]\n"
     ]
    }
   ],
   "source": [
    "import random\n",
    "\n",
    "inpt=5\n",
    "kernal=3\n",
    "out=3\n",
    "\n",
    "lst=[]\n",
    "lst2=[]\n",
    "lst3=[]\n",
    "\n",
    "for i in range(inpt):\n",
    "    my_randoms = random.sample(range(1, 101), inpt)\n",
    "    lst.append(my_randoms)\n",
    "\n",
    "for i in range(kernal):\n",
    "    my_randoms = random.sample(range(1, 101), kernal)\n",
    "    lst2.append(my_randoms)\n",
    "    \n",
    "for i in range(out):\n",
    "    lst4=[]\n",
    "    for j in range(out):\n",
    "        lst4.append(0)\n",
    "    lst3.append(lst4)\n",
    "\n",
    "print(lst)\n",
    "print(lst2)\n",
    "\n",
    "#lst=[[1,1,1,0,0],\n",
    "#     [0,1,1,1,0],\n",
    "#     [0,0,1,1,1],\n",
    "#     [0,0,1,1,0],\n",
    "#     [0,1,1,0,0]]\n",
    "#lst2=[[1,0,1],\n",
    "#      [0,1,0],\n",
    "#      [1,0,1]]\n",
    "#\n",
    "#lst3=[[0,0,0],\n",
    "#      [0,0,0],\n",
    "#      [0,0,0]]\n",
    "\n",
    "sum=0\n",
    "m=0\n",
    "n=0\n",
    "\n",
    "for i in range((len(lst)-len(lst2))+1):\n",
    "    for j in range((len(lst[0])-len(lst2[0]))+1):\n",
    "        m=i\n",
    "        n=j\n",
    "        for k in range(len(lst2)):\n",
    "            for l in range(len(lst2[0])):\n",
    "                sum=sum+lst[m][n]*lst2[k][l]\n",
    "                n=n+1\n",
    "            m=m+1\n",
    "            n=j\n",
    "        lst3[i][j]=sum\n",
    "        sum=0\n",
    "        \n",
    "print(lst3)"
   ]
  },
  {
   "cell_type": "code",
   "execution_count": null,
   "metadata": {},
   "outputs": [],
   "source": []
  }
 ],
 "metadata": {
  "kernelspec": {
   "display_name": "Python 3",
   "language": "python",
   "name": "python3"
  },
  "language_info": {
   "codemirror_mode": {
    "name": "ipython",
    "version": 3
   },
   "file_extension": ".py",
   "mimetype": "text/x-python",
   "name": "python",
   "nbconvert_exporter": "python",
   "pygments_lexer": "ipython3",
   "version": "3.7.1"
  }
 },
 "nbformat": 4,
 "nbformat_minor": 2
}
