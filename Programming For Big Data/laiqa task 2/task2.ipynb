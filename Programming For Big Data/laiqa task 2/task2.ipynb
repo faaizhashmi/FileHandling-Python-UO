{
 "cells": [
  {
   "cell_type": "markdown",
   "metadata": {},
   "source": [
    "# Class Tasks"
   ]
  },
  {
   "cell_type": "markdown",
   "metadata": {},
   "source": [
    "<font color='red' size =\"5\"> Write a Python program that takes a positive integer and returns the sum of the cube of all the positive integers smaller than the specified number.</font> "
   ]
  },
  {
   "cell_type": "code",
   "execution_count": 9,
   "metadata": {},
   "outputs": [
    {
     "name": "stdout",
     "output_type": "stream",
     "text": [
      "Enter Number4\n",
      "4\n",
      "36\n"
     ]
    }
   ],
   "source": [
    "num = input('Enter Number')\n",
    "sum = 0\n",
    "print(num)\n",
    "num = int(num)\n",
    "for i in range(num):\n",
    "    sum = sum + (i*i*i)\n",
    "print(sum)"
   ]
  },
  {
   "cell_type": "markdown",
   "metadata": {},
   "source": [
    "<font color='red' size =\"5\">Write a Python program to check whether a number is divisible by another number. Accept two integers values form the user. </font> "
   ]
  },
  {
   "cell_type": "code",
   "execution_count": 1,
   "metadata": {},
   "outputs": [
    {
     "name": "stdout",
     "output_type": "stream",
     "text": [
      "Enter 1st number5\n",
      "Enter 2nd number3\n",
      "Number is not divisible\n"
     ]
    }
   ],
   "source": [
    "num1 = input('Enter 1st number')\n",
    "num2 = input('Enter 2nd number')\n",
    "num1 = int(num1)\n",
    "num2 = int(num2)\n",
    "if num1%num2 == 0:\n",
    "    print('Number is divisble')\n",
    "else:\n",
    "    print('Number is not divisible')"
   ]
  },
  {
   "cell_type": "markdown",
   "metadata": {},
   "source": [
    "<font color='red' size =\"5\"> Write a C++ program which asks the user several Y/N questions and selects a car for them based on their answers. We (Rent-a-Car) have7 Porsche,5 Yukon,10 Civic,12 Villager,9 Explorer, and5 Sentra cars.The questions are:\n",
    "    1.  do you have children;\n",
    "    2.  do you have lots of money;\n",
    "    3.  do you like trucks.\n",
    "    The car selection should be based on the following:\n",
    "    1.Porsche:have no children, have lots of money, don’t like trucks.\n",
    "    2.Yukon:have no children, have lots of money, like trucks.\n",
    "    3.Civic:have no children, have little money.\n",
    "    4.Villager: have children, have lots of money, don’t like trucks.\n",
    "    5.Explorer:have children, have lots of money, like trucks\n",
    "    6.Sentra:have children,have little money.\n",
    "    The program should continue for the above scenario until Rent-a-Cars has sufficient supply \n",
    "</font> "
   ]
  },
  {
   "cell_type": "code",
   "execution_count": null,
   "metadata": {},
   "outputs": [],
   "source": [
    "p = 7\n",
    "y = 5\n",
    "c = 10\n",
    "v =12\n",
    "e = 9\n",
    "s = 5\n",
    "\n",
    "while(p!=0 and y!=0 and c!=0 and v!=0 and e !=0 and s!= 0):\n",
    "    child = input('do you have children? Y/N')\n",
    "    money = input('do you have lots of money? Y/N')\n",
    "    trucks = input('do you like trucks? Y/N')\n",
    "\n",
    "    if child=='n' and money=='y' and trucks=='n':\n",
    "        print('Porsche')\n",
    "        --p\n",
    "    elif child=='n' and money=='y' and trucks=='y':\n",
    "        print('Yukon') \n",
    "        --y\n",
    "    elif child=='n' and money=='n':\n",
    "        print('Civic')\n",
    "        --c\n",
    "    elif child=='y' and money=='y' and trucks=='n':\n",
    "        print('villager')\n",
    "        --v\n",
    "    elif child=='y' and money=='y' and trucks=='y':\n",
    "        print('explorer')\n",
    "        --e\n",
    "    elif child=='y' and money=='n':\n",
    "        print('Sentra')\n",
    "        --s\n",
    "    else:\n",
    "        print('No car is avaiable')"
   ]
  },
  {
   "cell_type": "markdown",
   "metadata": {},
   "source": [
    "<font color='red' size =\"5\">  Write a program that asks the user to enter today’s sales rounded to the nearest \\\\$100 for each of three stores. The program should then display a bar graphcomparing each store’s sales. Create each bar in the graph by displaying a row of asterisks. Each asterisk should represent \\\\$100 of sales.\n",
    "\n",
    "Here is an example of the program’s output. User input is shown in bold.\n",
    "1.  Enter today’s sales for store 1:990[Enter]\n",
    "2.  Enter today’s sales for store 2:1150[Enter]\n",
    "3.  Enter today’s sales for store 3:910[Enter]\n",
    "DAILY SALES (each *=$100)\n",
    "Store 2: ************\n",
    "Store 1: **********\n",
    "Store 3: *********\n",
    "\n",
    "</font>\n",
    "\n",
    "Input Validation: Do not accept sales figures less than $0.00"
   ]
  },
  {
   "cell_type": "code",
   "execution_count": null,
   "metadata": {
    "collapsed": true
   },
   "outputs": [],
   "source": []
  },
  {
   "cell_type": "markdown",
   "metadata": {},
   "source": []
  },
  {
   "cell_type": "code",
   "execution_count": null,
   "metadata": {
    "collapsed": true
   },
   "outputs": [],
   "source": []
  }
 ],
 "metadata": {
  "kernelspec": {
   "display_name": "Python 3",
   "language": "python",
   "name": "python3"
  },
  "language_info": {
   "codemirror_mode": {
    "name": "ipython",
    "version": 3
   },
   "file_extension": ".py",
   "mimetype": "text/x-python",
   "name": "python",
   "nbconvert_exporter": "python",
   "pygments_lexer": "ipython3",
   "version": "3.7.1"
  }
 },
 "nbformat": 4,
 "nbformat_minor": 2
}
