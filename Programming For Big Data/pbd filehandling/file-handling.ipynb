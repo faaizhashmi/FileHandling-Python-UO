{
 "cells": [
  {
   "cell_type": "markdown",
   "metadata": {},
   "source": [
    "## Complete the following tasks"
   ]
  },
  {
   "cell_type": "markdown",
   "metadata": {},
   "source": [
    "Write a Python program to read the file 'lorem_ipsum' line by line and store each line into a list and create a list of lists.\n",
    "\n",
    "Note: There should not be new line characters in the read strings(in all the tasks)."
   ]
  },
  {
   "cell_type": "code",
   "execution_count": null,
   "metadata": {},
   "outputs": [],
   "source": []
  },
  {
   "cell_type": "markdown",
   "metadata": {},
   "source": [
    "Write a program to read 2 vectors, one from each file('vec1' and 'vec2'), sum them up and divide the resultant vector with the min number in the first column and the multiply with max number in the second the column.Then take the avarage and store it in a separate file."
   ]
  },
  {
   "cell_type": "code",
   "execution_count": null,
   "metadata": {},
   "outputs": [],
   "source": []
  },
  {
   "cell_type": "markdown",
   "metadata": {},
   "source": [
    "Write a program to read the student data from the 'biology_class' file and store it in a dictionary. Refer to the file 'labels' for the column information. The keys will be same as the column names except for date. I want you to sepate the date into day, month, year and store the date into these three keys in the dictionary rather than a single key.\n",
    "\n",
    "Hint: You can map a key to a list"
   ]
  },
  {
   "cell_type": "code",
   "execution_count": null,
   "metadata": {},
   "outputs": [],
   "source": []
  }
 ],
 "metadata": {
  "kernelspec": {
   "display_name": "Python 3",
   "language": "python",
   "name": "python3"
  },
  "language_info": {
   "codemirror_mode": {
    "name": "ipython",
    "version": 3
   },
   "file_extension": ".py",
   "mimetype": "text/x-python",
   "name": "python",
   "nbconvert_exporter": "python",
   "pygments_lexer": "ipython3",
   "version": "3.7.3"
  }
 },
 "nbformat": 4,
 "nbformat_minor": 2
}
